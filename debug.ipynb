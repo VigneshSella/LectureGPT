{
 "cells": [
  {
   "cell_type": "code",
   "execution_count": 1,
   "metadata": {},
   "outputs": [
    {
     "name": "stdout",
     "output_type": "stream",
     "text": [
      "PyTorch GPU available: True\n",
      "PyTorch CUDA version: 11.8\n",
      "PyTorch GPU Device Name: NVIDIA GeForce RTX 4070 SUPER\n",
      "FAISS version: 1.9.0\n"
     ]
    }
   ],
   "source": [
    "import torch\n",
    "import faiss\n",
    "\n",
    "# Check PyTorch GPU availability\n",
    "print(\"PyTorch GPU available:\", torch.cuda.is_available())\n",
    "print(\"PyTorch CUDA version:\", torch.version.cuda)\n",
    "print(\"PyTorch GPU Device Name:\", torch.cuda.get_device_name(0))\n",
    "\n",
    "# Check FAISS GPU availability\n",
    "print(\"FAISS version:\", faiss.__version__)\n"
   ]
  }
 ],
 "metadata": {
  "kernelspec": {
   "display_name": "env",
   "language": "python",
   "name": "python3"
  },
  "language_info": {
   "codemirror_mode": {
    "name": "ipython",
    "version": 3
   },
   "file_extension": ".py",
   "mimetype": "text/x-python",
   "name": "python",
   "nbconvert_exporter": "python",
   "pygments_lexer": "ipython3",
   "version": "3.9.6"
  }
 },
 "nbformat": 4,
 "nbformat_minor": 2
}
